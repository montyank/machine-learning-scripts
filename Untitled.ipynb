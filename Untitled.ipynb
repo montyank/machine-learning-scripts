{
 "cells": [
  {
   "cell_type": "code",
   "execution_count": 1,
   "metadata": {},
   "outputs": [
    {
     "name": "stdout",
     "output_type": "stream",
     "text": [
      "hello\n"
     ]
    }
   ],
   "source": [
    "print 'hello'"
   ]
  },
  {
   "cell_type": "code",
   "execution_count": 2,
   "metadata": {},
   "outputs": [
    {
     "data": {
      "text/plain": [
       "3"
      ]
     },
     "execution_count": 2,
     "metadata": {},
     "output_type": "execute_result"
    }
   ],
   "source": [
    "1+2"
   ]
  },
  {
   "cell_type": "code",
   "execution_count": 7,
   "metadata": {},
   "outputs": [
    {
     "name": "stdout",
     "output_type": "stream",
     "text": [
      "[1, 2, 3, 5]\n",
      "<type 'list'>\n"
     ]
    }
   ],
   "source": [
    "#array\n",
    "\n",
    "a=[1,2,3,5]\n",
    "print a\n",
    "\n",
    "print type(a)"
   ]
  },
  {
   "cell_type": "code",
   "execution_count": 15,
   "metadata": {},
   "outputs": [
    {
     "name": "stdout",
     "output_type": "stream",
     "text": [
      "['1', '3', '2']\n",
      "['ankit', 'chutiya', 'mohanty']\n",
      "<type 'dict'>\n",
      "<type 'list'>\n"
     ]
    },
    {
     "data": {
      "text/plain": [
       "{'1': 'ankit', '2': 'mohanty', '3': 'chutiya', '4': 'new value'}"
      ]
     },
     "execution_count": 15,
     "metadata": {},
     "output_type": "execute_result"
    }
   ],
   "source": [
    "#dictionary\n",
    "\n",
    "b={'1':'ankit', '2': 'mohanty','3':'chutiya'}\n",
    "\n",
    "b\n",
    "\n",
    "print b.keys()\n",
    "print b.values()\n",
    "print type(b)\n",
    "print type(b.keys())\n",
    "\n",
    "b['4']='new value'\n",
    "b"
   ]
  },
  {
   "cell_type": "code",
   "execution_count": 32,
   "metadata": {},
   "outputs": [
    {
     "name": "stdout",
     "output_type": "stream",
     "text": [
      "<type 'str'>\n",
      "<type 'str'>\n",
      "<type 'str'>\n",
      "<type 'str'>\n",
      "\n",
      "\n",
      "['In', 'Austra', '', 'Germ', 'Fra']\n"
     ]
    }
   ],
   "source": [
    "#loops\n",
    "\n",
    "for each in b:\n",
    "    print type(each)\n",
    "print '\\n'\n",
    "\n",
    "wordlist=['India','Australia','USA','Germany','France']\n",
    "\n",
    "list1=[each[:-3] for each in wordlist]\n",
    "\n",
    "print list1\n",
    "    "
   ]
  },
  {
   "cell_type": "code",
   "execution_count": 42,
   "metadata": {},
   "outputs": [
    {
     "data": {
      "text/plain": [
       "[4, 12, 16, 24]"
      ]
     },
     "execution_count": 42,
     "metadata": {},
     "output_type": "execute_result"
    }
   ],
   "source": [
    "#list comprehension\n",
    "\n",
    "x=[2,3,5,6,7,8,9,12]\n",
    "\n",
    "[elem*2 if elem%2==0 else elem for elem in x]\n",
    "\n",
    "[elem*2 for elem in x if elem%2==0]"
   ]
  },
  {
   "cell_type": "code",
   "execution_count": 44,
   "metadata": {},
   "outputs": [
    {
     "data": {
      "text/plain": [
       "0"
      ]
     },
     "execution_count": 44,
     "metadata": {},
     "output_type": "execute_result"
    }
   ],
   "source": [
    "#functions\n",
    "\n",
    "def replace_neg(val):\n",
    "    \"\"\"\n",
    "    Function to return 0 if value is negative or return same value\n",
    "    \"\"\"\n",
    "    if val<0:\n",
    "        return 0\n",
    "    else:\n",
    "        return val\n",
    "\n",
    "    \n",
    "replace_neg(-8)"
   ]
  },
  {
   "cell_type": "code",
   "execution_count": 48,
   "metadata": {},
   "outputs": [
    {
     "name": "stdout",
     "output_type": "stream",
     "text": [
      "Person's name is: Ankit Mohanty\n"
     ]
    },
    {
     "data": {
      "text/plain": [
       "'Ankit'"
      ]
     },
     "execution_count": 48,
     "metadata": {},
     "output_type": "execute_result"
    }
   ],
   "source": [
    "#classes\n",
    "\n",
    "class person:\n",
    "    def __init__(self,Name):\n",
    "        self.name=Name\n",
    "        \n",
    "    def __str__(self):\n",
    "        return 'Person\\'s name is: '+ str(self.name)\n",
    "    \n",
    "    def firstname(self):\n",
    "        return self.name.split(' ')[0]\n",
    "\n",
    "    \n",
    "    \n",
    "per=person('Ankit Mohanty')\n",
    "\n",
    "print per\n",
    "per.firstname()"
   ]
  },
  {
   "cell_type": "code",
   "execution_count": 52,
   "metadata": {},
   "outputs": [
    {
     "data": {
      "text/plain": [
       "1"
      ]
     },
     "execution_count": 52,
     "metadata": {},
     "output_type": "execute_result"
    }
   ],
   "source": [
    "#practice\n",
    "\n",
    "x1={'a':[[3,7,17],[5,7,1,4]],'b':[34,2,1,[2,3,1]]}\n",
    "\n",
    "x1['a'][1][2]\n",
    "\n",
    "x1['b'][-2:][0]\n"
   ]
  },
  {
   "cell_type": "code",
   "execution_count": 56,
   "metadata": {},
   "outputs": [
    {
     "data": {
      "text/plain": [
       "[34, 21, 4, 34, 21, 4, 34, 21, 4, 34, 21, 4, 34, 21, 4]"
      ]
     },
     "execution_count": 56,
     "metadata": {},
     "output_type": "execute_result"
    }
   ],
   "source": [
    "x=[34,21,4,75,12]\n",
    "y=[34,21,4]\n",
    "\n",
    "[elem for elem in x if elem == elem for elem in y]"
   ]
  },
  {
   "cell_type": "code",
   "execution_count": 118,
   "metadata": {
    "scrolled": true
   },
   "outputs": [
    {
     "name": "stdout",
     "output_type": "stream",
     "text": [
      "05:25:22\n",
      "2018-06-24\n",
      "time.struct_time(tm_year=2018, tm_mon=6, tm_mday=25, tm_hour=0, tm_min=0, tm_sec=0, tm_wday=0, tm_yday=176, tm_isdst=-1)\n",
      "0\n",
      "1529933657.43\n"
     ]
    }
   ],
   "source": [
    "#find all dates from 2k16 first of the month was sunday\n",
    "\n",
    "import datetime as dt\n",
    "import urllib\n",
    "import time\n",
    "\n",
    "t=dt.time(5,25,22)\n",
    "\n",
    "print t\n",
    "\n",
    "d=dt.date(2018,6,24)\n",
    "\n",
    "print d\n",
    "\n",
    "\n",
    "\n",
    "print dt.date.timetuple(dt.date.today())\n",
    "\n",
    "print dt.date.weekday(dt.date(2018,06,18))\n",
    "\n",
    "print time.time()\n"
   ]
  },
  {
   "cell_type": "code",
   "execution_count": 123,
   "metadata": {},
   "outputs": [
    {
     "name": "stdout",
     "output_type": "stream",
     "text": [
      "2018-06-25 19:08:50.572000\n",
      "0\n",
      "2018-06-24 19:08:50.572000\n",
      "2018-06-17 19:08:50.572000\n",
      "2018-06-10 19:08:50.572000\n",
      "2018-06-03 19:08:50.572000\n",
      "2018-05-27 19:08:50.572000\n",
      "2018-05-20 19:08:50.572000\n",
      "2018-05-13 19:08:50.572000\n",
      "2018-05-06 19:08:50.572000\n",
      "2018-04-29 19:08:50.572000\n",
      "2018-04-22 19:08:50.572000\n",
      "2018-04-15 19:08:50.572000\n",
      "2018-04-08 19:08:50.572000\n",
      "2018-04-01 19:08:50.572000\n",
      "2018-03-25 19:08:50.572000\n",
      "2018-03-18 19:08:50.572000\n",
      "2018-03-11 19:08:50.572000\n",
      "2018-03-04 19:08:50.572000\n",
      "2018-02-25 19:08:50.572000\n",
      "2018-02-18 19:08:50.572000\n",
      "2018-02-11 19:08:50.572000\n",
      "2018-02-04 19:08:50.572000\n",
      "2018-01-28 19:08:50.572000\n",
      "2018-01-21 19:08:50.572000\n",
      "2018-01-14 19:08:50.572000\n",
      "2018-01-07 19:08:50.572000\n",
      "2017-12-31 19:08:50.572000\n",
      "2017-12-24 19:08:50.572000\n",
      "2017-12-17 19:08:50.572000\n",
      "2017-12-10 19:08:50.572000\n",
      "2017-12-03 19:08:50.572000\n",
      "2017-11-26 19:08:50.572000\n",
      "2017-11-19 19:08:50.572000\n",
      "2017-11-12 19:08:50.572000\n",
      "2017-11-05 19:08:50.572000\n",
      "2017-10-29 19:08:50.572000\n",
      "2017-10-22 19:08:50.572000\n",
      "2017-10-15 19:08:50.572000\n",
      "2017-10-08 19:08:50.572000\n",
      "2017-10-01 19:08:50.572000\n",
      "2017-09-24 19:08:50.572000\n",
      "2017-09-17 19:08:50.572000\n",
      "2017-09-10 19:08:50.572000\n",
      "2017-09-03 19:08:50.572000\n",
      "2017-08-27 19:08:50.572000\n",
      "2017-08-20 19:08:50.572000\n",
      "2017-08-13 19:08:50.572000\n",
      "2017-08-06 19:08:50.572000\n",
      "2017-07-30 19:08:50.572000\n",
      "2017-07-23 19:08:50.572000\n",
      "2017-07-16 19:08:50.572000\n",
      "2017-07-09 19:08:50.572000\n",
      "2017-07-02 19:08:50.572000\n",
      "2017-06-25 19:08:50.572000\n",
      "2017-06-18 19:08:50.572000\n",
      "2017-06-11 19:08:50.572000\n",
      "2017-06-04 19:08:50.572000\n",
      "2017-05-28 19:08:50.572000\n",
      "2017-05-21 19:08:50.572000\n",
      "2017-05-14 19:08:50.572000\n",
      "2017-05-07 19:08:50.572000\n",
      "2017-04-30 19:08:50.572000\n",
      "2017-04-23 19:08:50.572000\n",
      "2017-04-16 19:08:50.572000\n",
      "2017-04-09 19:08:50.572000\n",
      "2017-04-02 19:08:50.572000\n",
      "2017-03-26 19:08:50.572000\n",
      "2017-03-19 19:08:50.572000\n",
      "2017-03-12 19:08:50.572000\n",
      "2017-03-05 19:08:50.572000\n",
      "2017-02-26 19:08:50.572000\n",
      "2017-02-19 19:08:50.572000\n",
      "2017-02-12 19:08:50.572000\n",
      "2017-02-05 19:08:50.572000\n",
      "2017-01-29 19:08:50.572000\n",
      "2017-01-22 19:08:50.572000\n",
      "2017-01-15 19:08:50.572000\n",
      "2017-01-08 19:08:50.572000\n",
      "2017-01-01 19:08:50.572000\n",
      "2016-12-25 19:08:50.572000\n",
      "2016-12-18 19:08:50.572000\n",
      "2016-12-11 19:08:50.572000\n",
      "2016-12-04 19:08:50.572000\n",
      "2016-11-27 19:08:50.572000\n",
      "2016-11-20 19:08:50.572000\n",
      "2016-11-13 19:08:50.572000\n",
      "2016-11-06 19:08:50.572000\n",
      "2016-10-30 19:08:50.572000\n",
      "2016-10-23 19:08:50.572000\n",
      "2016-10-16 19:08:50.572000\n",
      "2016-10-09 19:08:50.572000\n",
      "2016-10-02 19:08:50.572000\n",
      "2016-09-25 19:08:50.572000\n",
      "2016-09-18 19:08:50.572000\n",
      "2016-09-11 19:08:50.572000\n",
      "2016-09-04 19:08:50.572000\n",
      "2016-08-28 19:08:50.572000\n",
      "2016-08-21 19:08:50.572000\n",
      "2016-08-14 19:08:50.572000\n",
      "2016-08-07 19:08:50.572000\n",
      "2016-07-31 19:08:50.572000\n",
      "2016-07-24 19:08:50.572000\n",
      "2016-07-17 19:08:50.572000\n",
      "2016-07-10 19:08:50.572000\n",
      "2016-07-03 19:08:50.572000\n",
      "2016-06-26 19:08:50.572000\n",
      "2016-06-19 19:08:50.572000\n",
      "2016-06-12 19:08:50.572000\n",
      "2016-06-05 19:08:50.572000\n",
      "2016-05-29 19:08:50.572000\n",
      "2016-05-22 19:08:50.572000\n",
      "2016-05-15 19:08:50.572000\n",
      "2016-05-08 19:08:50.572000\n",
      "2016-05-01 19:08:50.572000\n",
      "2016-04-24 19:08:50.572000\n",
      "2016-04-17 19:08:50.572000\n",
      "2016-04-10 19:08:50.572000\n",
      "2016-04-03 19:08:50.572000\n",
      "2016-03-27 19:08:50.572000\n",
      "2016-03-20 19:08:50.572000\n",
      "2016-03-13 19:08:50.572000\n",
      "2016-03-06 19:08:50.572000\n",
      "2016-02-28 19:08:50.572000\n",
      "2016-02-21 19:08:50.572000\n",
      "2016-02-14 19:08:50.572000\n",
      "2016-02-07 19:08:50.572000\n",
      "2016-01-31 19:08:50.572000\n",
      "2016-01-24 19:08:50.572000\n",
      "2016-01-17 19:08:50.572000\n",
      "2016-01-10 19:08:50.572000\n",
      "2016-01-03 19:08:50.572000\n"
     ]
    }
   ],
   "source": [
    "base=dt.datetime.today()\n",
    "\n",
    "base\n",
    "\n",
    "numdays=907\n",
    "\n",
    "datelist=[]\n",
    "\n",
    "for x in range(0,numdays):\n",
    "    datelist.append(base-dt.timedelta(days=x))\n",
    "\n",
    "print datelist[0]\n",
    "print dt.date.weekday(datelist[0])\n",
    "    \n",
    "for each in datelist:\n",
    "    if dt.date.weekday(each) == 6:\n",
    "        print each"
   ]
  }
 ],
 "metadata": {
  "kernelspec": {
   "display_name": "Python 2",
   "language": "python",
   "name": "python2"
  },
  "language_info": {
   "codemirror_mode": {
    "name": "ipython",
    "version": 2
   },
   "file_extension": ".py",
   "mimetype": "text/x-python",
   "name": "python",
   "nbconvert_exporter": "python",
   "pygments_lexer": "ipython2",
   "version": "2.7.15"
  }
 },
 "nbformat": 4,
 "nbformat_minor": 2
}
